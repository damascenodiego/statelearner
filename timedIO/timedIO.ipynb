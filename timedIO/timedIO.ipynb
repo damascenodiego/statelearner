{
 "cells": [
  {
   "cell_type": "code",
   "execution_count": 1,
   "metadata": {
    "pycharm": {
     "name": "#%%\n"
    }
   },
   "outputs": [],
   "source": [
    "# Setup the environment\n",
    "\n",
    "import matplotlib.pyplot as plt\n",
    "import numpy as np\n",
    "import pandas as pd\n",
    "from scipy.stats import norm\n",
    "from utils import MealyMachine\n",
    "\n",
    "# if using a Jupyter notebook, include:\n",
    "%matplotlib inline"
   ]
  },
  {
   "cell_type": "code",
   "execution_count": 2,
   "metadata": {
    "pycharm": {
     "name": "#%%\n"
    }
   },
   "outputs": [
    {
     "data": {
      "text/html": [
       "<div>\n",
       "<style scoped>\n",
       "    .dataframe tbody tr th:only-of-type {\n",
       "        vertical-align: middle;\n",
       "    }\n",
       "\n",
       "    .dataframe tbody tr th {\n",
       "        vertical-align: top;\n",
       "    }\n",
       "\n",
       "    .dataframe thead th {\n",
       "        text-align: right;\n",
       "    }\n",
       "</style>\n",
       "<table border=\"1\" class=\"dataframe\">\n",
       "  <thead>\n",
       "    <tr style=\"text-align: right;\">\n",
       "      <th></th>\n",
       "      <th>Timestamp</th>\n",
       "      <th>ResetId</th>\n",
       "      <th>SymbolId</th>\n",
       "      <th>OpType</th>\n",
       "      <th>Duration</th>\n",
       "      <th>Input</th>\n",
       "      <th>Output</th>\n",
       "      <th>Origin</th>\n",
       "      <th>Destination</th>\n",
       "    </tr>\n",
       "  </thead>\n",
       "  <tbody>\n",
       "    <tr>\n",
       "      <th>0</th>\n",
       "      <td>2020-07-23 10:25:00.244</td>\n",
       "      <td>0</td>\n",
       "      <td>-1</td>\n",
       "      <td>Reset</td>\n",
       "      <td>0.000933</td>\n",
       "      <td>Reset</td>\n",
       "      <td>Reset</td>\n",
       "      <td>s0</td>\n",
       "      <td>s0</td>\n",
       "    </tr>\n",
       "    <tr>\n",
       "      <th>1</th>\n",
       "      <td>2020-07-23 10:25:00.346</td>\n",
       "      <td>0</td>\n",
       "      <td>0</td>\n",
       "      <td>TimedIO</td>\n",
       "      <td>0.100564</td>\n",
       "      <td>ClientHelloRSA</td>\n",
       "      <td>HandshakeServerHelloTLSv12HandshakeCertificate...</td>\n",
       "      <td>s0</td>\n",
       "      <td>s1</td>\n",
       "    </tr>\n",
       "    <tr>\n",
       "      <th>2</th>\n",
       "      <td>2020-07-23 10:25:00.348</td>\n",
       "      <td>1</td>\n",
       "      <td>-1</td>\n",
       "      <td>Reset</td>\n",
       "      <td>0.000536</td>\n",
       "      <td>Reset</td>\n",
       "      <td>Reset</td>\n",
       "      <td>s1</td>\n",
       "      <td>s0</td>\n",
       "    </tr>\n",
       "    <tr>\n",
       "      <th>3</th>\n",
       "      <td>2020-07-23 10:25:00.455</td>\n",
       "      <td>1</td>\n",
       "      <td>0</td>\n",
       "      <td>TimedIO</td>\n",
       "      <td>0.105529</td>\n",
       "      <td>ClientHelloDHE</td>\n",
       "      <td>HandshakeServerHelloTLSv12HandshakeCertificate...</td>\n",
       "      <td>s0</td>\n",
       "      <td>s1</td>\n",
       "    </tr>\n",
       "    <tr>\n",
       "      <th>4</th>\n",
       "      <td>2020-07-23 10:25:00.458</td>\n",
       "      <td>2</td>\n",
       "      <td>-1</td>\n",
       "      <td>Reset</td>\n",
       "      <td>0.000795</td>\n",
       "      <td>Reset</td>\n",
       "      <td>Reset</td>\n",
       "      <td>s1</td>\n",
       "      <td>s0</td>\n",
       "    </tr>\n",
       "  </tbody>\n",
       "</table>\n",
       "</div>"
      ],
      "text/plain": [
       "                 Timestamp  ResetId  SymbolId   OpType  Duration  \\\n",
       "0  2020-07-23 10:25:00.244        0        -1    Reset  0.000933   \n",
       "1  2020-07-23 10:25:00.346        0         0  TimedIO  0.100564   \n",
       "2  2020-07-23 10:25:00.348        1        -1    Reset  0.000536   \n",
       "3  2020-07-23 10:25:00.455        1         0  TimedIO  0.105529   \n",
       "4  2020-07-23 10:25:00.458        2        -1    Reset  0.000795   \n",
       "\n",
       "            Input                                             Output Origin  \\\n",
       "0           Reset                                              Reset     s0   \n",
       "1  ClientHelloRSA  HandshakeServerHelloTLSv12HandshakeCertificate...     s0   \n",
       "2           Reset                                              Reset     s1   \n",
       "3  ClientHelloDHE  HandshakeServerHelloTLSv12HandshakeCertificate...     s0   \n",
       "4           Reset                                              Reset     s1   \n",
       "\n",
       "  Destination  \n",
       "0          s0  \n",
       "1          s1  \n",
       "2          s0  \n",
       "3          s1  \n",
       "4          s0  "
      ]
     },
     "execution_count": 2,
     "metadata": {},
     "output_type": "execute_result"
    }
   ],
   "source": [
    "fname = 'default'\n",
    "tls_df = pd.read_table('./'+fname+'.tab')\n",
    "mm = MealyMachine('./'+fname+'.dot')\n",
    "tls_df.Duration = tls_df.Duration / 1e+9\n",
    "tls_df['Origin'] = mm.list_origin(tls_df.Input.to_list())\n",
    "tls_df['Destination'] = mm.list_destination(tls_df.Input.to_list())\n",
    "tls_df.head()"
   ]
  },
  {
   "cell_type": "code",
   "execution_count": 3,
   "metadata": {
    "pycharm": {
     "name": "#%%\n"
    }
   },
   "outputs": [],
   "source": [
    "# Concatenate IO\n",
    "\n",
    "tls_df[\"IO\"] = tls_df[\"Input\"]+\" / \"+tls_df[\"Output\"]\n",
    "tls_df[\"SI\"] = tls_df[\"Input\"]+\" - \"+tls_df[\"Origin\"]"
   ]
  },
  {
   "cell_type": "code",
   "execution_count": 4,
   "metadata": {
    "pycharm": {
     "is_executing": true,
     "name": "#%%\n"
    }
   },
   "outputs": [
    {
     "data": {
      "image/png": "[encoded data removed]",
      "text/plain": [
       "<Figure size 1080x2160 with 60 Axes>"
      ]
     },
     "metadata": {
      "needs_background": "light"
     },
     "output_type": "display_data"
    }
   ],
   "source": [
    "x = tls_df['Duration'].hist(by=tls_df['Output'],figsize=(15,30), layout=(10,6))"
   ]
  }
 ],
 "metadata": {
  "kernelspec": {
   "display_name": "Python 3",
   "language": "python",
   "name": "python3"
  },
  "language_info": {
   "codemirror_mode": {
    "name": "ipython",
    "version": 3
   },
   "file_extension": ".py",
   "mimetype": "text/x-python",
   "name": "python",
   "nbconvert_exporter": "python",
   "pygments_lexer": "ipython3",
   "version": "3.8.3"
  }
 },
 "nbformat": 4,
 "nbformat_minor": 1
}